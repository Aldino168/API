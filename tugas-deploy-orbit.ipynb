{
 "cells": [
  {
   "cell_type": "code",
   "execution_count": 1,
   "id": "f5a3a05b",
   "metadata": {},
   "outputs": [],
   "source": [
    "# !pip install easyocr"
   ]
  },
  {
   "cell_type": "code",
   "execution_count": 1,
   "id": "69b5ba1d",
   "metadata": {},
   "outputs": [],
   "source": []
  },
  {
   "cell_type": "code",
   "execution_count": 2,
   "id": "73f1b489",
   "metadata": {},
   "outputs": [],
   "source": []
  },
  {
   "cell_type": "markdown",
   "id": "e5978945",
   "metadata": {},
   "source": [
    "# coba save file ke folder"
   ]
  },
  {
   "cell_type": "code",
   "execution_count": null,
   "id": "e5493c53",
   "metadata": {
    "scrolled": true
   },
   "outputs": [
    {
     "name": "stdout",
     "output_type": "stream",
     "text": [
      " * Serving Flask app '__main__' (lazy loading)\n",
      " * Environment: production\n",
      "\u001b[31m   WARNING: This is a development server. Do not use it in a production deployment.\u001b[0m\n",
      "\u001b[2m   Use a production WSGI server instead.\u001b[0m\n",
      " * Debug mode: off\n"
     ]
    },
    {
     "name": "stderr",
     "output_type": "stream",
     "text": [
      " * Running on all addresses (0.0.0.0)\n",
      "   WARNING: This is a development server. Do not use it in a production deployment.\n",
      " * Running on http://127.0.0.1:5000\n",
      " * Running on http://192.168.43.60:5000 (Press CTRL+C to quit)\n",
      "192.168.43.60 - - [18/May/2022 02:01:03] \"GET / HTTP/1.1\" 200 -\n",
      "192.168.43.60 - - [18/May/2022 02:01:03] \"\u001b[33mGET /favicon.ico HTTP/1.1\u001b[0m\" 404 -\n",
      "YOLOv5  2022-5-17 Python-3.7.6 torch-1.11.0+cpu CPU\n",
      "\n",
      "Fusing layers... \n",
      "Model summary: 213 layers, 7012822 parameters, 0 gradients\n",
      "image 1/1 C:\\Users\\Rahmat\\gabungan tugas akhir orbit\\yolov5\\data\\images\\zzzz.jpg: 640x480 1 fitur, Done. (0.329s)\n",
      "Speed: 2.0ms pre-process, 329.0ms inference, 1.0ms NMS per image at shape (1, 3, 640, 640)\n",
      "Results saved to \u001b[1mruns\\detect\\exp25\u001b[0m\n",
      "CUDA not available - defaulting to CPU. Note: This module is much faster with a GPU.\n"
     ]
    },
    {
     "name": "stdout",
     "output_type": "stream",
     "text": [
      "bounding box is  108 283 518 359\n",
      "class index is  tensor(0.)\n",
      "detected object name is  fitur\n"
     ]
    },
    {
     "name": "stderr",
     "output_type": "stream",
     "text": [
      "Exception on / [POST]\n",
      "Traceback (most recent call last):\n",
      "  File \"C:\\Users\\Rahmat\\anaconda3\\envs\\final\\lib\\site-packages\\flask\\app.py\", line 2077, in wsgi_app\n",
      "    response = self.full_dispatch_request()\n",
      "  File \"C:\\Users\\Rahmat\\anaconda3\\envs\\final\\lib\\site-packages\\flask\\app.py\", line 1526, in full_dispatch_request\n",
      "    return self.finalize_request(rv)\n",
      "  File \"C:\\Users\\Rahmat\\anaconda3\\envs\\final\\lib\\site-packages\\flask\\app.py\", line 1545, in finalize_request\n",
      "    response = self.make_response(rv)\n",
      "  File \"C:\\Users\\Rahmat\\anaconda3\\envs\\final\\lib\\site-packages\\flask\\app.py\", line 1702, in make_response\n",
      "    f\"The view function for {request.endpoint!r} did not\"\n",
      "TypeError: The view function for 'index' did not return a valid response. The function either returned None or ended without a return statement.\n",
      "192.168.43.60 - - [18/May/2022 02:01:18] \"\u001b[35m\u001b[1mPOST / HTTP/1.1\u001b[0m\" 500 -\n"
     ]
    },
    {
     "name": "stdout",
     "output_type": "stream",
     "text": [
      "(['disc.'], ['-10, 400'], ['30,400'], ['hyorococo 25ohl'])\n"
     ]
    }
   ],
   "source": [
    "import pandas as pd\n",
    "import pickle\n",
    "import os\n",
    "from flask import Flask, render_template, request\n",
    "\n",
    "import ocr\n",
    "from PIL import Image\n",
    "import torch\n",
    "import easyocr\n",
    "import re\n",
    "\n",
    "app = Flask(__name__)\n",
    "# model=pickle.load(open(\"model/linear-weight.pkl\",\"rb\"))\n",
    "\n",
    "\n",
    "\n",
    "@app.route(\"/\", methods=[\"GET\",\"POST\"])\n",
    "def index():\n",
    "    if request.method == \"GET\":\n",
    "        return render_template(\"portofolio2.html\")\n",
    "    elif request.method == \"POST\":\n",
    "        csvfile = request.files.get(\"file\")\n",
    "        img = Image.open(csvfile)\n",
    "        img = img.save(\"data/images/zzzz.jpg\")\n",
    "#         baca = plt.imread(csvfile)\n",
    "#         tampil = plt.imshow(baca)\n",
    "#         pickle.dumps(csvfile, open(\"data/images/test.jpg\", \"wb\"))\n",
    "#         plt.imsave(csvfile)\n",
    "#         cv2.imwrite(\"data/images/test.jpg\", csvfile)\n",
    "        konek = ocr.connect()\n",
    "        semua = ocr.diskon1(konek)\n",
    "        return print(semua)\n",
    "\n",
    "if __name__ == \"__main__\":\n",
    "    app.run(host=\"0.0.0.0\", port=\"5000\")"
   ]
  },
  {
   "cell_type": "code",
   "execution_count": null,
   "id": "39e3f87c",
   "metadata": {},
   "outputs": [],
   "source": []
  }
 ],
 "metadata": {
  "kernelspec": {
   "display_name": "Python [conda env:final]",
   "language": "python",
   "name": "conda-env-final-py"
  },
  "language_info": {
   "codemirror_mode": {
    "name": "ipython",
    "version": 3
   },
   "file_extension": ".py",
   "mimetype": "text/x-python",
   "name": "python",
   "nbconvert_exporter": "python",
   "pygments_lexer": "ipython3",
   "version": "3.7.6"
  }
 },
 "nbformat": 4,
 "nbformat_minor": 5
}
