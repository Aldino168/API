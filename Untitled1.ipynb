{
 "cells": [
  {
   "cell_type": "code",
   "execution_count": 1,
   "id": "bc13b975",
   "metadata": {},
   "outputs": [],
   "source": [
    "import torch\n",
    "import easyocr\n",
    "import re"
   ]
  },
  {
   "cell_type": "code",
   "execution_count": 4,
   "id": "d97b8a51",
   "metadata": {},
   "outputs": [],
   "source": [
    "import argparse\n",
    "import os\n",
    "import sys\n",
    "from pathlib import Path\n",
    "\n",
    "import torch\n",
    "import torch.backends.cudnn as cudnn\n",
    "\n",
    "FILE = Path('Untitled.ipynb').resolve()\n",
    "ROOT = FILE.parents[0]  # YOLOv5 root directory\n",
    "if str(ROOT) not in sys.path:\n",
    "    sys.path.append(str(ROOT))  # add ROOT to PATH\n",
    "ROOT = Path(os.path.relpath(ROOT, Path.cwd()))  # relative\n",
    "\n",
    "from models.common import DetectMultiBackend\n",
    "from utils.dataloaders import IMG_FORMATS, VID_FORMATS, LoadImages, LoadStreams\n",
    "from utils.general import (LOGGER, check_file, check_img_size, check_imshow, check_requirements, colorstr, cv2,\n",
    "                           increment_path, non_max_suppression, print_args, scale_coords, strip_optimizer, xyxy2xywh)\n",
    "from utils.plots import Annotator, colors, save_one_box\n",
    "from utils.torch_utils import select_device, time_sync\n",
    "\n",
    "\n",
    "@torch.no_grad()\n",
    "def run(\n",
    "        weights='custom_model/last.pt',  # model.pt path(s)\n",
    "        source=ROOT / 'data/images',  # file/dir/URL/glob, 0 for webcam\n",
    "        data=ROOT / 'data/coco128.yaml',  # dataset.yaml path\n",
    "        imgsz=(640, 640),  # inference size (height, width)\n",
    "        conf_thres=0.25,  # confidence threshold\n",
    "        iou_thres=0.45,  # NMS IOU threshold\n",
    "        max_det=1000,  # maximum detections per image\n",
    "        device='',  # cuda device, i.e. 0 or 0,1,2,3 or cpu\n",
    "        view_img=False,  # show results\n",
    "        save_txt=False,  # save results to *.txt\n",
    "        save_conf=False,  # save confidences in --save-txt labels\n",
    "        save_crop=False,  # save cropped prediction boxes\n",
    "        nosave=False,  # do not save images/videos\n",
    "        classes=None,  # filter by class: --class 0, or --class 0 2 3\n",
    "        agnostic_nms=False,  # class-agnostic NMS\n",
    "        augment=False,  # augmented inference\n",
    "        visualize=False,  # visualize features\n",
    "        update=False,  # update all models\n",
    "        project=ROOT / 'runs/detect',  # save results to project/name\n",
    "        name='exp',  # save results to project/name\n",
    "        exist_ok=False,  # existing project/name ok, do not increment\n",
    "        line_thickness=3,  # bounding box thickness (pixels)\n",
    "        hide_labels=False,  # hide labels\n",
    "        hide_conf=False,  # hide confidences\n",
    "        half=False,  # use FP16 half-precision inference\n",
    "        dnn=False,  # use OpenCV DNN for ONNX inference\n",
    "):\n",
    "    source = str(source)\n",
    "    save_img = not nosave and not source.endswith('.txt')  # save inference images\n",
    "    is_file = Path(source).suffix[1:] in (IMG_FORMATS + VID_FORMATS)\n",
    "    is_url = source.lower().startswith(('rtsp://', 'rtmp://', 'http://', 'https://'))\n",
    "    webcam = source.isnumeric() or source.endswith('.txt') or (is_url and not is_file)\n",
    "    if is_url and is_file:\n",
    "        source = check_file(source)  # download\n",
    "\n",
    "    # Directories\n",
    "    save_dir = increment_path(Path(project) / name, exist_ok=exist_ok)  # increment run\n",
    "    (save_dir / 'labels' if save_txt else save_dir).mkdir(parents=True, exist_ok=True)  # make dir\n",
    "\n",
    "    # Load model\n",
    "    device = select_device(device)\n",
    "    model = DetectMultiBackend(weights, device=device, dnn=dnn, data=data, fp16=half)\n",
    "    stride, names, pt = model.stride, model.names, model.pt\n",
    "    imgsz = check_img_size(imgsz, s=stride)  # check image size\n",
    "\n",
    "    # Dataloader\n",
    "    if webcam:\n",
    "        view_img = check_imshow()\n",
    "        cudnn.benchmark = True  # set True to speed up constant image size inference\n",
    "        dataset = LoadStreams(source, img_size=imgsz, stride=stride, auto=pt)\n",
    "        bs = len(dataset)  # batch_size\n",
    "    else:\n",
    "        dataset = LoadImages(source, img_size=imgsz, stride=stride, auto=pt)\n",
    "        bs = 1  # batch_size\n",
    "    vid_path, vid_writer = [None] * bs, [None] * bs\n",
    "\n",
    "    # Run inference\n",
    "    model.warmup(imgsz=(1 if pt else bs, 3, *imgsz))  # warmup\n",
    "    dt, seen = [0.0, 0.0, 0.0], 0\n",
    "    for path, im, im0s, vid_cap, s in dataset:\n",
    "        t1 = time_sync()\n",
    "        im = torch.from_numpy(im).to(device)\n",
    "        im = im.half() if model.fp16 else im.float()  # uint8 to fp16/32\n",
    "        im /= 255  # 0 - 255 to 0.0 - 1.0\n",
    "        if len(im.shape) == 3:\n",
    "            im = im[None]  # expand for batch dim\n",
    "        t2 = time_sync()\n",
    "        dt[0] += t2 - t1\n",
    "\n",
    "        # Inference\n",
    "        visualize = increment_path(save_dir / Path(path).stem, mkdir=True) if visualize else False\n",
    "        pred = model(im, augment=augment, visualize=visualize)\n",
    "        t3 = time_sync()\n",
    "        dt[1] += t3 - t2\n",
    "\n",
    "        # NMS\n",
    "        pred = non_max_suppression(pred, conf_thres, iou_thres, classes, agnostic_nms, max_det=max_det)\n",
    "        dt[2] += time_sync() - t3\n",
    "\n",
    "        # Second-stage classifier (optional)\n",
    "        # pred = utils.general.apply_classifier(pred, classifier_model, im, im0s)\n",
    "\n",
    "        # Process predictions\n",
    "        for i, det in enumerate(pred):  # per image\n",
    "            seen += 1\n",
    "            if webcam:  # batch_size >= 1\n",
    "                p, im0, frame = path[i], im0s[i].copy(), dataset.count\n",
    "                s += f'{i}: '\n",
    "            else:\n",
    "                p, im0, frame = path, im0s.copy(), getattr(dataset, 'frame', 0)\n",
    "\n",
    "            p = Path(p)  # to Path\n",
    "            save_path = str(save_dir / p.name)  # im.jpg\n",
    "            txt_path = str(save_dir / 'labels' / p.stem) + ('' if dataset.mode == 'image' else f'_{frame}')  # im.txt\n",
    "            s += '%gx%g ' % im.shape[2:]  # print string\n",
    "            gn = torch.tensor(im0.shape)[[1, 0, 1, 0]]  # normalization gain whwh\n",
    "            imc = im0.copy() if save_crop else im0  # for save_crop\n",
    "            annotator = Annotator(im0, line_width=line_thickness, example=str(names))\n",
    "            if len(det):\n",
    "                # Rescale boxes from img_size to im0 size\n",
    "                det[:, :4] = scale_coords(im.shape[2:], det[:, :4], im0.shape).round()\n",
    "\n",
    "                # Print results\n",
    "                for c in det[:, -1].unique():\n",
    "                    n = (det[:, -1] == c).sum()  # detections per class\n",
    "                    s += f\"{n} {names[int(c)]}{'s' * (n > 1)}, \"  # add to string\n",
    "\n",
    "                # Write results\n",
    "                for *xyxy, conf, cls in reversed(det):\n",
    "                    if save_txt:  # Write to file\n",
    "                        xywh = (xyxy2xywh(torch.tensor(xyxy).view(1, 4)) / gn).view(-1).tolist()  # normalized xywh\n",
    "                        line = (cls, *xywh, conf) if save_conf else (cls, *xywh)  # label format\n",
    "                        with open(txt_path + '.txt', 'a') as f:\n",
    "                            f.write(('%g ' * len(line)).rstrip() % line + '\\n')\n",
    "\n",
    "                    if save_img or save_crop or view_img:  # Add bbox to image\n",
    "                        c = int(cls)  # integer class\n",
    "                        label = None if hide_labels else (names[c] if hide_conf else f'{names[c]} {conf:.2f}')\n",
    "                        # annotator.box_label(xyxy, label, color=colors(c, True))\n",
    "                        x1 = int(xyxy[0].item())\n",
    "                        y1 = int(xyxy[1].item())\n",
    "                        x2 = int(xyxy[2].item())\n",
    "                        y2 = int(xyxy[3].item())\n",
    "\n",
    "                        confidence_score = conf\n",
    "                        class_index = cls\n",
    "                        object_name = names[int(cls)]\n",
    "\n",
    "                        print('bounding box is ', x1, y1, x2, y2)\n",
    "                        print('class index is ', class_index)\n",
    "                        print('detected object name is ', object_name)\n",
    "                        original_img = im0\n",
    "                        cropped_img = im0[y1:y2, x1:x2]\n",
    "                        cv2.imwrite('test.png',cropped_img)\n",
    "                        if save_crop:\n",
    "                            save_one_box(xyxy, imc, file=save_dir / 'crops' / names[c] / f'{p.stem}.jpg', BGR=True)\n",
    "\n",
    "            # Stream results\n",
    "            im0 = annotator.result()\n",
    "            if view_img:\n",
    "                cv2.imshow(str(p), im0)\n",
    "                cv2.waitKey(1)  # 1 millisecond\n",
    "\n",
    "            # Save results (image with detections)\n",
    "            if save_img:\n",
    "                if dataset.mode == 'image':\n",
    "                    cv2.imwrite(save_path, im0)\n",
    "                else:  # 'video' or 'stream'\n",
    "                    if vid_path[i] != save_path:  # new video\n",
    "                        vid_path[i] = save_path\n",
    "                        if isinstance(vid_writer[i], cv2.VideoWriter):\n",
    "                            vid_writer[i].release()  # release previous video writer\n",
    "                        if vid_cap:  # video\n",
    "                            fps = vid_cap.get(cv2.CAP_PROP_FPS)\n",
    "                            w = int(vid_cap.get(cv2.CAP_PROP_FRAME_WIDTH))\n",
    "                            h = int(vid_cap.get(cv2.CAP_PROP_FRAME_HEIGHT))\n",
    "                        else:  # stream\n",
    "                            fps, w, h = 30, im0.shape[1], im0.shape[0]\n",
    "                        save_path = str(Path(save_path).with_suffix('.mp4'))  # force *.mp4 suffix on results videos\n",
    "                        vid_writer[i] = cv2.VideoWriter(save_path, cv2.VideoWriter_fourcc(*'mp4v'), fps, (w, h))\n",
    "                    vid_writer[i].write(im0)\n",
    "\n",
    "        # Print time (inference-only)\n",
    "        LOGGER.info(f'{s}Done. ({t3 - t2:.3f}s)')\n",
    "\n",
    "    # Print results\n",
    "    t = tuple(x / seen * 1E3 for x in dt)  # speeds per image\n",
    "    LOGGER.info(f'Speed: %.1fms pre-process, %.1fms inference, %.1fms NMS per image at shape {(1, 3, *imgsz)}' % t)\n",
    "    if save_txt or save_img:\n",
    "        s = f\"\\n{len(list(save_dir.glob('labels/*.txt')))} labels saved to {save_dir / 'labels'}\" if save_txt else ''\n",
    "        LOGGER.info(f\"Results saved to {colorstr('bold', save_dir)}{s}\")\n",
    "    if update:\n",
    "        strip_optimizer(weights)  # update model (to fix SourceChangeWarning)"
   ]
  },
  {
   "cell_type": "code",
   "execution_count": 24,
   "id": "6495a97c",
   "metadata": {
    "scrolled": false
   },
   "outputs": [],
   "source": [
    "# a = !python detect.py --weights custom_model/last.pt --img 640 --conf 0.25 --source data/images\n",
    "# # display.Image(filename='runs/detect/exp/zidane.jpg', width=600)\n",
    "# a"
   ]
  },
  {
   "cell_type": "code",
   "execution_count": 9,
   "id": "80be7c29",
   "metadata": {},
   "outputs": [],
   "source": [
    "def connect():\n",
    "    text=[]\n",
    "    run()\n",
    "#     !python detect.py --weights custom_model/last.pt --img 640 --conf 0.25 --source data/images\n",
    "    reader = easyocr.Reader(['en'])\n",
    "    result = reader.readtext(\"test.png\", detail=1)\n",
    "    for string in result:\n",
    "        text.append(string[1].lower())\n",
    "    return text"
   ]
  },
  {
   "cell_type": "code",
   "execution_count": 10,
   "id": "32c97b47",
   "metadata": {},
   "outputs": [],
   "source": [
    "def diskon(ocr_text):\n",
    "    disc=[]\n",
    "    hdisc = []\n",
    "    for i in range(len(ocr_text)):\n",
    "        if (\"disc\" in ocr_text[i]) == True:\n",
    "            disc.append(ocr_text[i])\n",
    "        try:\n",
    "            if ocr_text[i] in disc:\n",
    "                hdisc.append(ocr_text[i+1])\n",
    "        except (IndexError):\n",
    "            del disc[-1]\n",
    "    return disc, hdisc"
   ]
  },
  {
   "cell_type": "code",
   "execution_count": 11,
   "id": "339ac1ee",
   "metadata": {},
   "outputs": [],
   "source": [
    "def diskon1(ocr_text):\n",
    "    disc=[]\n",
    "    hdisc = []\n",
    "    inti = []\n",
    "    harga =[]\n",
    "    produk =[]\n",
    "    for i in range(len(ocr_text)):\n",
    "        if (\"disc\" in ocr_text[i]) == True:\n",
    "            disc.append(ocr_text[i])\n",
    "        try:\n",
    "            if ocr_text[i] in disc:\n",
    "                hdisc.append(ocr_text[i+1])\n",
    "        except (IndexError):\n",
    "            del disc[-1]\n",
    "    for i in range (len(ocr_text)):\n",
    "        if ocr_text[i] not in (disc):\n",
    "            if ocr_text[i] not in (hdisc):\n",
    "                inti.append(ocr_text[i])\n",
    "    for i in range(len(inti)):\n",
    "        if re.findall(r'([0-9]{1,3}(?=\\,))',inti[i]):\n",
    "            harga.append(inti[i])\n",
    "        if (inti[i] not in harga)==True:\n",
    "            produk.append(inti[i])\n",
    "    \n",
    "            \n",
    "    return disc, hdisc, harga[1::2], produk"
   ]
  },
  {
   "cell_type": "code",
   "execution_count": 13,
   "id": "83c27b98",
   "metadata": {
    "scrolled": true
   },
   "outputs": [
    {
     "data": {
      "text/plain": [
       "(['disc .', 'disc.', 'disc.', 'disc'],\n",
       " ['~2,200', '~2,400', '~14,500', 'ultra'],\n",
       " ['9,4uu', '7,400', '12,000', '44,000'],\n",
       " ['2',\n",
       "  'ij0 250hl',\n",
       "  'sosro ori 330hl',\n",
       "  '2',\n",
       "  'hyrot | thr fhes',\n",
       "  'quaker 800g',\n",
       "  'kp',\n",
       "  'branding '])"
      ]
     },
     "execution_count": 13,
     "metadata": {},
     "output_type": "execute_result"
    }
   ],
   "source": [
    "semuanya = diskon1(c)\n",
    "semuanya"
   ]
  },
  {
   "cell_type": "code",
   "execution_count": 23,
   "id": "706a0888",
   "metadata": {},
   "outputs": [
    {
     "data": {
      "text/plain": [
       "['kp brd l 0.020',\n",
       " \"'200\",\n",
       " '200',\n",
       " 'bblac 3vnl  b00g',\n",
       " '1',\n",
       " 'sani ter wipesso',\n",
       " '1',\n",
       " 'sgh a 0-6 600g',\n",
       " '2',\n",
       " 'taro net  bbo6sg']"
      ]
     },
     "execution_count": 23,
     "metadata": {},
     "output_type": "execute_result"
    }
   ],
   "source": [
    "semuanya[3]"
   ]
  },
  {
   "cell_type": "code",
   "execution_count": 12,
   "id": "5bfa002b",
   "metadata": {
    "scrolled": true
   },
   "outputs": [
    {
     "name": "stderr",
     "output_type": "stream",
     "text": [
      "YOLOv5  2022-5-17 Python-3.8.8 torch-1.11.0+cpu CPU\n",
      "\n",
      "Fusing layers... \n",
      "Model summary: 213 layers, 7012822 parameters, 0 gradients, 15.8 GFLOPs\n",
      "image 1/3 C:\\Users\\Rahmat\\gabungan tugas akhir orbit\\yolov5\\data\\images\\coba-struk.jpg: 640x320 1 fitur, Done. (0.145s)\n"
     ]
    },
    {
     "name": "stdout",
     "output_type": "stream",
     "text": [
      "bounding box is  44 1618 1727 1877\n",
      "class index is  tensor(0.)\n",
      "detected object name is  fitur\n"
     ]
    },
    {
     "name": "stderr",
     "output_type": "stream",
     "text": [
      "image 2/3 C:\\Users\\Rahmat\\gabungan tugas akhir orbit\\yolov5\\data\\images\\struk-2.jpg: 640x640 1 fitur, Done. (0.284s)\n"
     ]
    },
    {
     "name": "stdout",
     "output_type": "stream",
     "text": [
      "bounding box is  229 476 678 590\n",
      "class index is  tensor(0.)\n",
      "detected object name is  fitur\n"
     ]
    },
    {
     "name": "stderr",
     "output_type": "stream",
     "text": [
      "image 3/3 C:\\Users\\Rahmat\\gabungan tugas akhir orbit\\yolov5\\data\\images\\struk-3.jpg: 640x480 1 fitur, Done. (0.237s)\n",
      "Speed: 1.3ms pre-process, 222.0ms inference, 1.0ms NMS per image at shape (1, 3, 640, 640)\n",
      "Results saved to \u001b[1mruns\\detect\\exp9\u001b[0m\n",
      "CUDA not available - defaulting to CPU. Note: This module is much faster with a GPU.\n"
     ]
    },
    {
     "name": "stdout",
     "output_type": "stream",
     "text": [
      "bounding box is  185 361 580 628\n",
      "class index is  tensor(0.)\n",
      "detected object name is  fitur\n"
     ]
    },
    {
     "data": {
      "text/plain": [
       "['2',\n",
       " '4,700',\n",
       " '9,4uu',\n",
       " 'ij0 250hl',\n",
       " 'disc .',\n",
       " '~2,200',\n",
       " '3,700',\n",
       " '7,400',\n",
       " 'sosro ori 330hl',\n",
       " '2',\n",
       " 'disc.',\n",
       " '~2,400',\n",
       " '12,000',\n",
       " '12,000',\n",
       " 'hyrot | thr fhes',\n",
       " '44,000',\n",
       " '44,000',\n",
       " 'quaker 800g',\n",
       " 'disc.',\n",
       " '~14,500',\n",
       " 'kp',\n",
       " 'branding ',\n",
       " 'disc',\n",
       " 'ultra']"
      ]
     },
     "execution_count": 12,
     "metadata": {},
     "output_type": "execute_result"
    }
   ],
   "source": [
    "c = connect()\n",
    "c"
   ]
  },
  {
   "cell_type": "code",
   "execution_count": 16,
   "id": "5370fafc",
   "metadata": {},
   "outputs": [
    {
     "data": {
      "text/plain": [
       "(['disc.', 'disc.'], ['~400', '~2,900'])"
      ]
     },
     "execution_count": 16,
     "metadata": {},
     "output_type": "execute_result"
    }
   ],
   "source": [
    "diskon_n_harganya = diskon(c)\n",
    "diskon_n_harganya"
   ]
  },
  {
   "cell_type": "code",
   "execution_count": 18,
   "id": "7ad2d851",
   "metadata": {},
   "outputs": [
    {
     "data": {
      "text/plain": [
       "['disc.', 'disc.']"
      ]
     },
     "execution_count": 18,
     "metadata": {},
     "output_type": "execute_result"
    }
   ],
   "source": [
    "diskon_n_harganya[0]"
   ]
  }
 ],
 "metadata": {
  "kernelspec": {
   "display_name": "Python 3",
   "language": "python",
   "name": "python3"
  },
  "language_info": {
   "codemirror_mode": {
    "name": "ipython",
    "version": 3
   },
   "file_extension": ".py",
   "mimetype": "text/x-python",
   "name": "python",
   "nbconvert_exporter": "python",
   "pygments_lexer": "ipython3",
   "version": "3.8.8"
  }
 },
 "nbformat": 4,
 "nbformat_minor": 5
}
