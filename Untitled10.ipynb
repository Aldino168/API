{
 "cells": [
  {
   "cell_type": "code",
   "execution_count": 1,
   "id": "db2592ac",
   "metadata": {
    "collapsed": true
   },
   "outputs": [
    {
     "name": "stdout",
     "output_type": "stream",
     "text": [
      "# packages in environment at C:\\Users\\Rahmat\\anaconda3:\n",
      "#\n",
      "# Name                    Version                   Build  Channel\n",
      "_anaconda_depends         2020.07                  py38_0  \n",
      "_ipyw_jlab_nb_ext_conf    0.1.0                    py38_0  \n",
      "absl-py                   1.0.0                    pypi_0    pypi\n",
      "alabaster                 0.7.12             pyhd3eb1b0_0  \n",
      "anaconda                  custom                   py38_1  \n",
      "anaconda-client           1.7.2                    py38_0  \n",
      "anaconda-navigator        2.0.3                    py38_0  \n",
      "anaconda-project          0.9.1              pyhd3eb1b0_1  \n",
      "anyio                     2.2.0            py38haa95532_2  \n",
      "appdirs                   1.4.4                      py_0  \n",
      "argh                      0.26.2                   py38_0  \n",
      "argon2-cffi               20.1.0           py38h2bbff1b_1  \n",
      "asn1crypto                1.4.0                      py_0  \n",
      "astroid                   2.5              py38haa95532_1  \n",
      "astropy                   4.2.1            py38h2bbff1b_1  \n",
      "async_generator           1.10               pyhd3eb1b0_0  \n",
      "atomicwrites              1.4.0                      py_0  \n",
      "attrs                     20.3.0             pyhd3eb1b0_0  \n",
      "autopep8                  1.5.6              pyhd3eb1b0_0  \n",
      "babel                     2.9.0              pyhd3eb1b0_0  \n",
      "backcall                  0.2.0              pyhd3eb1b0_0  \n",
      "backports                 1.0                pyhd3eb1b0_2  \n",
      "backports.functools_lru_cache 1.6.4              pyhd3eb1b0_0  \n",
      "backports.shutil_get_terminal_size 1.0.0              pyhd3eb1b0_3  \n",
      "backports.tempfile        1.0                pyhd3eb1b0_1  \n",
      "backports.weakref         1.0.post1                  py_1  \n",
      "bcrypt                    3.2.0            py38he774522_0  \n",
      "beautifulsoup4            4.9.3              pyha847dfd_0  \n",
      "bitarray                  1.9.2            py38h2bbff1b_1  \n",
      "bkcharts                  0.2                      py38_0  \n",
      "black                     19.10b0                    py_0  \n",
      "blas                      1.0                         mkl  \n",
      "bleach                    3.3.0              pyhd3eb1b0_0  \n",
      "blosc                     1.21.0               h19a0ad4_0  \n",
      "bokeh                     2.3.2            py38haa95532_0  \n",
      "boto                      2.49.0                   py38_0  \n",
      "bottleneck                1.3.2            py38h2a96729_1  \n",
      "brotli                    1.0.9                ha925a31_2  \n",
      "brotlipy                  0.7.0           py38h2bbff1b_1003  \n",
      "bzip2                     1.0.8                he774522_0  \n",
      "ca-certificates           2021.10.26           haa95532_2  \n",
      "cachetools                5.0.0                    pypi_0    pypi\n",
      "certifi                   2021.10.8        py38haa95532_0  \n",
      "cffi                      1.14.5           py38hcd4344a_0  \n",
      "chardet                   4.0.0           py38haa95532_1003  \n",
      "charls                    2.2.0                h6c2663c_0  \n",
      "click                     7.1.2              pyhd3eb1b0_0  \n",
      "cloudpickle               1.6.0                      py_0  \n",
      "clyent                    1.2.2                    py38_1  \n",
      "colorama                  0.4.4              pyhd3eb1b0_0  \n",
      "comtypes                  1.1.9           py38haa95532_1002  \n",
      "conda                     4.10.3           py38haa95532_0  \n",
      "conda-build               3.21.4           py38haa95532_0  \n",
      "conda-content-trust       0.1.1              pyhd3eb1b0_0  \n",
      "conda-env                 2.6.0                         1  \n",
      "conda-package-handling    1.7.3            py38h8cc25b3_1  \n",
      "conda-repo-cli            1.0.4              pyhd3eb1b0_0  \n",
      "conda-token               0.3.0              pyhd3eb1b0_0  \n",
      "conda-verify              3.4.2                      py_1  \n",
      "console_shortcut          0.1.1                         4  \n",
      "contextlib2               0.6.0.post1                py_0  \n",
      "cryptography              3.4.7            py38h71e12ea_0  \n",
      "curl                      7.71.1               h2a8f88b_1  \n",
      "cycler                    0.10.0                   py38_0  \n",
      "cython                    0.29.23          py38hd77b12b_0  \n",
      "cytoolz                   0.11.0           py38he774522_0  \n",
      "darknet                   0.3                      pypi_0    pypi\n",
      "dask                      2021.4.0           pyhd3eb1b0_0  \n",
      "dask-core                 2021.4.0           pyhd3eb1b0_0  \n",
      "decorator                 5.0.6              pyhd3eb1b0_0  \n",
      "defusedxml                0.7.1              pyhd3eb1b0_0  \n",
      "diff-match-patch          20200713                   py_0  \n",
      "distlib                   0.3.4                    pypi_0    pypi\n",
      "distributed               2021.4.0         py38haa95532_0  \n",
      "docutils                  0.17             py38haa95532_1  \n",
      "entrypoints               0.3                      py38_0  \n",
      "et_xmlfile                1.0.1                   py_1001  \n",
      "fastcache                 1.1.0            py38he774522_0  \n",
      "filelock                  3.6.0                    pypi_0    pypi\n",
      "flake8                    3.9.0              pyhd3eb1b0_0  \n",
      "flask                     1.1.2              pyhd3eb1b0_0  \n",
      "freetype                  2.10.4               hd328e21_0  \n",
      "fsspec                    0.9.0              pyhd3eb1b0_0  \n",
      "future                    0.18.2                   py38_1  \n",
      "get_terminal_size         1.0.0                h38e98db_0  \n",
      "gevent                    21.1.2           py38h2bbff1b_1  \n",
      "giflib                    5.2.1                h62dcd97_0  \n",
      "glob2                     0.7                pyhd3eb1b0_0  \n",
      "gmpy2                     2.0.8            py38h7edee0f_3  \n",
      "google-auth               2.6.3                    pypi_0    pypi\n",
      "google-auth-oauthlib      0.4.6                    pypi_0    pypi\n",
      "greenlet                  1.0.0            py38hd77b12b_2  \n",
      "grpcio                    1.44.0                   pypi_0    pypi\n",
      "h5py                      2.10.0           py38h5e291fa_0  \n",
      "hdf5                      1.10.4               h7ebc959_0  \n",
      "heapdict                  1.0.1                      py_0  \n",
      "html5lib                  1.1                        py_0  \n",
      "icc_rt                    2019.0.0             h0cc432a_1  \n",
      "icu                       58.2                 ha925a31_3  \n",
      "idna                      2.10               pyhd3eb1b0_0  \n",
      "imagecodecs               2021.3.31        py38h5da4933_0  \n",
      "imageio                   2.9.0              pyhd3eb1b0_0  \n",
      "imagesize                 1.2.0              pyhd3eb1b0_0  \n",
      "importlib-metadata        4.11.3                   pypi_0    pypi\n",
      "importlib_metadata        3.10.0               hd3eb1b0_0  \n",
      "iniconfig                 1.1.1              pyhd3eb1b0_0  \n",
      "intel-openmp              2021.2.0           haa95532_616  \n",
      "intervaltree              3.1.0                      py_0  \n",
      "ipykernel                 5.3.4            py38h5ca1d4c_0  \n",
      "ipython                   7.22.0           py38hd4e2768_0  \n",
      "ipython_genutils          0.2.0              pyhd3eb1b0_1  \n",
      "ipywidgets                7.6.3              pyhd3eb1b0_1  \n",
      "isort                     5.8.0              pyhd3eb1b0_0  \n",
      "itsdangerous              1.1.0              pyhd3eb1b0_0  \n",
      "jcopml                    1.1.10                   pypi_0    pypi\n",
      "jdcal                     1.4.1                      py_0  \n",
      "jedi                      0.17.2           py38haa95532_1  \n",
      "jinja2                    2.11.3             pyhd3eb1b0_0  \n",
      "joblib                    1.0.1              pyhd3eb1b0_0  \n",
      "jpeg                      9b                   hb83a4c4_2  \n",
      "json5                     0.9.5                      py_0  \n",
      "jsonschema                3.2.0                      py_2  \n",
      "jupyter                   1.0.0                    py38_7  \n",
      "jupyter-packaging         0.7.12             pyhd3eb1b0_0  \n",
      "jupyter_client            6.1.12             pyhd3eb1b0_0  \n",
      "jupyter_console           6.4.0              pyhd3eb1b0_0  \n",
      "jupyter_contrib_core      0.3.3                      py_2    conda-forge\n",
      "jupyter_contrib_nbextensions 0.5.1              pyhd8ed1ab_2    conda-forge\n",
      "jupyter_core              4.7.1            py38haa95532_0  \n",
      "jupyter_highlight_selected_word 0.2.0           py38haa244fe_1002    conda-forge\n",
      "jupyter_latex_envs        1.4.6           pyhd8ed1ab_1002    conda-forge\n",
      "jupyter_nbextensions_configurator 0.4.1            py38haa244fe_2    conda-forge\n",
      "jupyter_server            1.4.1            py38haa95532_0  \n",
      "jupyterlab                3.0.14             pyhd3eb1b0_1  \n",
      "jupyterlab_pygments       0.1.2                      py_0  \n",
      "jupyterlab_server         2.4.0              pyhd3eb1b0_0  \n",
      "jupyterlab_widgets        1.0.0              pyhd3eb1b0_1  \n",
      "keyring                   22.3.0           py38haa95532_0  \n",
      "kiwisolver                1.3.1            py38hd77b12b_0  \n",
      "krb5                      1.18.2               hc04afaa_0  \n",
      "lazy-object-proxy         1.6.0            py38h2bbff1b_0  \n",
      "lcms2                     2.12                 h83e58a3_0  \n",
      "lerc                      2.2.1                hd77b12b_0  \n",
      "libaec                    1.0.4                h33f27b4_1  \n",
      "libarchive                3.4.2                h5e25573_0  \n",
      "libcurl                   7.71.1               h2a8f88b_1  \n",
      "libdeflate                1.7                  h2bbff1b_5  \n",
      "libiconv                  1.15                 h1df5818_7  \n",
      "liblief                   0.10.1               ha925a31_0  \n",
      "libllvm9                  9.0.1                h21ff451_0  \n",
      "libpng                    1.6.37               h2a8f88b_0  \n",
      "libsodium                 1.0.18               h62dcd97_0  \n",
      "libspatialindex           1.9.3                h6c2663c_0  \n",
      "libssh2                   1.9.0                h7a1dbc1_1  \n",
      "libtiff                   4.2.0                hd0e1b90_0  \n",
      "libxml2                   2.9.10               hb89e7f3_3  \n",
      "libxslt                   1.1.34               he774522_0  \n",
      "libzopfli                 1.0.3                ha925a31_0  \n",
      "llvmlite                  0.36.0           py38h34b8924_4  \n",
      "locket                    0.2.1            py38haa95532_1  \n",
      "luwiji                    1.1.8                    pypi_0    pypi\n",
      "lxml                      4.8.0                    pypi_0    pypi\n",
      "lz4-c                     1.9.3                h2bbff1b_0  \n",
      "lzo                       2.10                 he774522_2  \n",
      "m2w64-gcc-libgfortran     5.3.0                         6  \n",
      "m2w64-gcc-libs            5.3.0                         7  \n",
      "m2w64-gcc-libs-core       5.3.0                         7  \n",
      "m2w64-gmp                 6.1.0                         2  \n",
      "m2w64-libwinpthread-git   5.0.0.4634.697f757               2  \n",
      "markdown                  3.3.6                    pypi_0    pypi\n",
      "markupsafe                1.1.1            py38he774522_0  \n",
      "matplotlib                3.3.4            py38haa95532_0  \n",
      "matplotlib-base           3.3.4            py38h49ac443_0  \n",
      "mccabe                    0.6.1                    py38_1  \n",
      "menuinst                  1.4.16           py38he774522_1  \n",
      "mistune                   0.8.4           py38he774522_1000  \n",
      "mkl                       2021.2.0           haa95532_296  \n",
      "mkl-service               2.3.0            py38h2bbff1b_1  \n",
      "mkl_fft                   1.3.0            py38h277e83a_2  \n",
      "mkl_random                1.2.1            py38hf11a4ad_2  \n",
      "mlxtend                   0.19.0                   pypi_0    pypi\n",
      "mock                      4.0.3              pyhd3eb1b0_0  \n",
      "more-itertools            8.7.0              pyhd3eb1b0_0  \n",
      "mpc                       1.1.0                h7edee0f_1  \n",
      "mpfr                      4.0.2                h62dcd97_1  \n",
      "mpir                      3.0.0                hec2e145_1  \n",
      "mpmath                    1.2.1            py38haa95532_0  \n",
      "msgpack-python            1.0.2            py38h59b6b97_1  \n",
      "msys2-conda-epoch         20160418                      1  \n",
      "multipledispatch          0.6.0                    py38_0  \n",
      "mypy_extensions           0.4.3                    py38_0  \n",
      "navigator-updater         0.2.1                    py38_0  \n",
      "nb_conda_kernels          2.3.1            py38haa95532_0  \n",
      "nbclassic                 0.2.6              pyhd3eb1b0_0  \n",
      "nbclient                  0.5.3              pyhd3eb1b0_0  \n",
      "nbconvert                 6.0.7                    py38_0  \n",
      "nbformat                  5.1.3              pyhd3eb1b0_0  \n",
      "nest-asyncio              1.5.1              pyhd3eb1b0_0  \n",
      "networkx                  2.5                        py_0  \n",
      "nltk                      3.6.1              pyhd3eb1b0_0  \n",
      "nose                      1.3.7           pyhd3eb1b0_1006  \n",
      "notebook                  6.3.0            py38haa95532_0  \n",
      "numba                     0.53.1           py38hf11a4ad_0  \n",
      "numexpr                   2.7.3            py38hb80d3ca_1  \n",
      "numpy                     1.20.1           py38h34a8a5c_0  \n",
      "numpy-base                1.20.1           py38haf7ebc8_0  \n",
      "numpydoc                  1.1.0              pyhd3eb1b0_1  \n",
      "oauthlib                  3.2.0                    pypi_0    pypi\n",
      "olefile                   0.46                       py_0  \n",
      "opencv-python             4.5.5.62                 pypi_0    pypi\n",
      "openjpeg                  2.3.0                h5ec785f_1  \n",
      "openpyxl                  3.0.7              pyhd3eb1b0_0  \n",
      "openssl                   1.1.1l               h2bbff1b_0  \n",
      "packaging                 21.3                     pypi_0    pypi\n",
      "pandas                    1.2.4            py38hd77b12b_0  \n",
      "pandoc                    2.12                 haa95532_0  \n",
      "pandocfilters             1.4.3            py38haa95532_1  \n",
      "paramiko                  2.7.2                      py_0  \n",
      "parso                     0.7.0                      py_0  \n",
      "partd                     1.2.0              pyhd3eb1b0_0  \n",
      "path                      15.1.2           py38haa95532_0  \n",
      "path.py                   12.5.0                        0  \n",
      "pathlib2                  2.3.5            py38haa95532_2  \n",
      "pathspec                  0.7.0                      py_0  \n",
      "pathtools                 0.1.2              pyhd3eb1b0_1  \n",
      "patsy                     0.5.1                    py38_0  \n",
      "pep8                      1.7.1                    py38_0  \n",
      "pexpect                   4.8.0              pyhd3eb1b0_3  \n",
      "pickleshare               0.7.5           pyhd3eb1b0_1003  \n",
      "pillow                    8.2.0            py38h4fa10fc_0  \n",
      "pip                       22.0.4                   pypi_0    pypi\n",
      "pkginfo                   1.7.0            py38haa95532_0  \n",
      "platformdirs              2.5.2                    pypi_0    pypi\n",
      "pluggy                    0.13.1           py38haa95532_0  \n",
      "ply                       3.11                     py38_0  \n",
      "powershell_shortcut       0.0.1                         3  \n",
      "prometheus_client         0.10.1             pyhd3eb1b0_0  \n",
      "prompt-toolkit            3.0.17             pyh06a4308_0  \n",
      "prompt_toolkit            3.0.17               hd3eb1b0_0  \n",
      "protobuf                  3.20.0                   pypi_0    pypi\n",
      "psutil                    5.8.0            py38h2bbff1b_1  \n",
      "ptyprocess                0.7.0              pyhd3eb1b0_2  \n",
      "py                        1.10.0             pyhd3eb1b0_0  \n",
      "py-lief                   0.10.1           py38ha925a31_0  \n",
      "pyaml                     20.4.0                   pypi_0    pypi\n",
      "pyasn1                    0.4.8                    pypi_0    pypi\n",
      "pyasn1-modules            0.2.8                    pypi_0    pypi\n",
      "pycodestyle               2.6.0              pyhd3eb1b0_0  \n",
      "pycosat                   0.6.3            py38h2bbff1b_0  \n",
      "pycparser                 2.20                       py_2  \n",
      "pycurl                    7.43.0.6         py38h7a1dbc1_0  \n",
      "pydocstyle                6.0.0              pyhd3eb1b0_0  \n",
      "pyerfa                    1.7.3            py38h2bbff1b_0  \n",
      "pyflakes                  2.2.0              pyhd3eb1b0_0  \n",
      "pygments                  2.8.1              pyhd3eb1b0_0  \n",
      "pylint                    2.7.4            py38haa95532_1  \n",
      "pyls-black                0.4.6                hd3eb1b0_0  \n",
      "pyls-spyder               0.3.2              pyhd3eb1b0_0  \n",
      "pynacl                    1.4.0            py38h62dcd97_1  \n",
      "pyodbc                    4.0.30           py38ha925a31_0  \n",
      "pyopenssl                 20.0.1             pyhd3eb1b0_1  \n",
      "pyparsing                 2.4.7              pyhd3eb1b0_0  \n",
      "pyqt                      5.9.2            py38ha925a31_4  \n",
      "pyqt5                     5.15.6                   pypi_0    pypi\n",
      "pyqt5-qt5                 5.15.2                   pypi_0    pypi\n",
      "pyqt5-sip                 12.9.1                   pypi_0    pypi\n",
      "pyreadline                2.1                      py38_1  \n",
      "pyrsistent                0.17.3           py38he774522_0  \n",
      "pysocks                   1.7.1            py38haa95532_0  \n",
      "pytables                  3.6.1            py38ha5be198_0  \n",
      "pytesseract               0.3.9                    pypi_0    pypi\n",
      "pytest                    6.2.3            py38haa95532_2  \n",
      "python                    3.8.8                hdbf39b2_5  \n",
      "python-dateutil           2.8.1              pyhd3eb1b0_0  \n",
      "python-jsonrpc-server     0.4.0                      py_0  \n",
      "python-language-server    0.36.2             pyhd3eb1b0_0  \n",
      "python-libarchive-c       2.9                pyhd3eb1b0_1  \n",
      "python_abi                3.8                      2_cp38    conda-forge\n",
      "pytz                      2021.1             pyhd3eb1b0_0  \n",
      "pywavelets                1.1.1            py38he774522_2  \n",
      "pywin32                   227              py38he774522_1  \n",
      "pywin32-ctypes            0.2.0                 py38_1000  \n",
      "pywinpty                  0.5.7                    py38_0  \n",
      "pyyaml                    5.4.1            py38h2bbff1b_1  \n",
      "pyzmq                     20.0.0           py38hd77b12b_1  \n",
      "qdarkstyle                2.8.1                      py_0  \n",
      "qt                        5.9.7            vc14h73c81de_0  \n",
      "qtawesome                 1.0.2              pyhd3eb1b0_0  \n",
      "qtconsole                 5.0.3              pyhd3eb1b0_0  \n",
      "qtpy                      1.9.0                      py_0  \n",
      "regex                     2021.4.4         py38h2bbff1b_0  \n",
      "requests                  2.25.1             pyhd3eb1b0_0  \n",
      "requests-oauthlib         1.3.1                    pypi_0    pypi\n",
      "rope                      0.18.0                     py_0  \n",
      "rsa                       4.8                      pypi_0    pypi\n",
      "rtree                     0.9.7            py38h2eaa2aa_1  \n",
      "ruamel_yaml               0.15.100         py38h2bbff1b_0  \n",
      "sastrawi                  1.0.1                    pypi_0    pypi\n",
      "scikit-image              0.18.1           py38hf11a4ad_0  \n",
      "scikit-learn              0.24.2           py38hf11a4ad_1  \n",
      "scikit-optimize           0.8.1                    pypi_0    pypi\n",
      "scipy                     1.6.2            py38h66253e8_1  \n",
      "seaborn                   0.11.1             pyhd3eb1b0_0  \n",
      "selenium                  3.141.0                  pypi_0    pypi\n",
      "send2trash                1.5.0              pyhd3eb1b0_1  \n",
      "setuptools                52.0.0           py38haa95532_0  \n",
      "simplegeneric             0.8.1                    py38_2  \n",
      "singledispatch            3.6.1           pyhd3eb1b0_1001  \n",
      "sip                       4.19.13          py38ha925a31_0  \n",
      "six                       1.15.0           py38haa95532_0  \n",
      "sklearn                   0.0                      pypi_0    pypi\n",
      "snappy                    1.1.8                h33f27b4_0  \n",
      "sniffio                   1.2.0            py38haa95532_1  \n",
      "snowballstemmer           2.1.0              pyhd3eb1b0_0  \n",
      "sortedcollections         2.1.0              pyhd3eb1b0_0  \n",
      "sortedcontainers          2.3.0              pyhd3eb1b0_0  \n",
      "soupsieve                 2.2.1              pyhd3eb1b0_0  \n",
      "sphinx                    4.0.1              pyhd3eb1b0_0  \n",
      "sphinxcontrib             1.0                      py38_1  \n",
      "sphinxcontrib-applehelp   1.0.2              pyhd3eb1b0_0  \n",
      "sphinxcontrib-devhelp     1.0.2              pyhd3eb1b0_0  \n",
      "sphinxcontrib-htmlhelp    1.0.3              pyhd3eb1b0_0  \n",
      "sphinxcontrib-jsmath      1.0.1              pyhd3eb1b0_0  \n",
      "sphinxcontrib-qthelp      1.0.3              pyhd3eb1b0_0  \n",
      "sphinxcontrib-serializinghtml 1.1.4              pyhd3eb1b0_0  \n",
      "sphinxcontrib-websupport  1.2.4                      py_0  \n",
      "spyder                    4.2.5            py38haa95532_0  \n",
      "spyder-kernels            1.10.2           py38haa95532_0  \n",
      "sqlalchemy                1.4.7            py38h2bbff1b_0  \n",
      "sqlite                    3.35.4               h2bbff1b_0  \n",
      "statsmodels               0.12.2           py38h2bbff1b_0  \n",
      "sympy                     1.8              py38haa95532_0  \n",
      "tbb                       2020.3               h74a9793_0  \n",
      "tblib                     1.7.0                      py_0  \n",
      "tensorboard               2.8.0                    pypi_0    pypi\n",
      "tensorboard-data-server   0.6.1                    pypi_0    pypi\n",
      "tensorboard-plugin-wit    1.8.1                    pypi_0    pypi\n",
      "terminado                 0.9.4            py38haa95532_0  \n",
      "testpath                  0.4.4              pyhd3eb1b0_0  \n",
      "textdistance              4.2.1              pyhd3eb1b0_0  \n",
      "thop                      0.0.31-2005241907          pypi_0    pypi\n",
      "threadpoolctl             2.1.0              pyh5ca1d4c_0  \n",
      "three-merge               0.1.1              pyhd3eb1b0_0  \n",
      "tifffile                  2021.4.8           pyhd3eb1b0_2  \n",
      "tk                        8.6.10               he774522_0  \n",
      "toml                      0.10.2             pyhd3eb1b0_0  \n",
      "toolz                     0.11.1             pyhd3eb1b0_0  \n",
      "torch                     1.11.0                   pypi_0    pypi\n",
      "torchvision               0.12.0                   pypi_0    pypi\n",
      "tornado                   6.1              py38h2bbff1b_0  \n",
      "tqdm                      4.59.0             pyhd3eb1b0_1  \n",
      "traitlets                 5.0.5              pyhd3eb1b0_0  \n",
      "typed-ast                 1.4.2            py38h2bbff1b_1  \n",
      "typing_extensions         3.7.4.3            pyha847dfd_0  \n",
      "ujson                     4.0.2            py38hd77b12b_0  \n",
      "unicodecsv                0.14.1                   py38_0  \n",
      "urllib3                   1.26.4             pyhd3eb1b0_0  \n",
      "vc                        14.2                 h21ff451_1  \n",
      "virtualenv                20.14.1                  pypi_0    pypi\n",
      "vs2015_runtime            14.27.29016          h5e58377_2  \n",
      "watchdog                  1.0.2            py38haa95532_1  \n",
      "wcwidth                   0.2.5                      py_0  \n",
      "webencodings              0.5.1                    py38_1  \n",
      "werkzeug                  1.0.1              pyhd3eb1b0_0  \n",
      "wheel                     0.36.2             pyhd3eb1b0_0  \n",
      "widgetsnbextension        3.5.1                    py38_0  \n",
      "wikipedia-api             0.5.4                    pypi_0    pypi\n",
      "win_inet_pton             1.1.0            py38haa95532_0  \n",
      "win_unicode_console       0.5                      py38_0  \n",
      "wincertstore              0.2                      py38_0  \n",
      "winpty                    0.4.3                         4  \n",
      "wordcloud                 1.8.1                    pypi_0    pypi\n",
      "wrapt                     1.12.1           py38he774522_1  \n",
      "xgboost                   1.4.2                    pypi_0    pypi\n",
      "xlrd                      2.0.1              pyhd3eb1b0_0  \n",
      "xlsxwriter                1.3.8              pyhd3eb1b0_0  \n",
      "xlwings                   0.23.0           py38haa95532_0  \n",
      "xlwt                      1.3.0                    py38_0  \n",
      "xmltodict                 0.12.0                     py_0  \n",
      "xz                        5.2.5                h62dcd97_0  \n",
      "yaml                      0.2.5                he774522_0  \n",
      "yapf                      0.31.0             pyhd3eb1b0_0  \n",
      "zeromq                    4.3.3                ha925a31_3  \n",
      "zfp                       0.5.5                hd77b12b_6  \n",
      "zict                      2.0.0              pyhd3eb1b0_0  \n",
      "zipp                      3.4.1              pyhd3eb1b0_0  \n",
      "zlib                      1.2.11               h62dcd97_4  \n",
      "zope                      1.0                      py38_1  \n",
      "zope.event                4.5.0                    py38_0  \n",
      "zope.interface            5.3.0            py38h2bbff1b_0  \n",
      "zstd                      1.4.5                h04227a9_0  \n"
     ]
    }
   ],
   "source": [
    "# !conda list"
   ]
  },
  {
   "cell_type": "code",
   "execution_count": 2,
   "id": "c3e9c6ca",
   "metadata": {},
   "outputs": [
    {
     "name": "stdout",
     "output_type": "stream",
     "text": [
      "Collecting easyocr\n",
      "  Using cached easyocr-1.4.2-py3-none-any.whl (70.8 MB)\n",
      "Requirement already satisfied: Pillow in c:\\users\\rahmat\\anaconda3\\lib\\site-packages (from easyocr) (8.2.0)\n",
      "Collecting python-bidi\n",
      "  Using cached python_bidi-0.4.2-py2.py3-none-any.whl (30 kB)\n",
      "Requirement already satisfied: numpy in c:\\users\\rahmat\\anaconda3\\lib\\site-packages (from easyocr) (1.20.1)\n",
      "Requirement already satisfied: torch in c:\\users\\rahmat\\anaconda3\\lib\\site-packages (from easyocr) (1.11.0)\n",
      "Requirement already satisfied: scipy in c:\\users\\rahmat\\anaconda3\\lib\\site-packages (from easyocr) (1.6.2)\n",
      "Requirement already satisfied: scikit-image in c:\\users\\rahmat\\anaconda3\\lib\\site-packages (from easyocr) (0.18.1)\n",
      "Requirement already satisfied: torchvision>=0.5 in c:\\users\\rahmat\\anaconda3\\lib\\site-packages (from easyocr) (0.12.0)\n",
      "Requirement already satisfied: PyYAML in c:\\users\\rahmat\\anaconda3\\lib\\site-packages (from easyocr) (5.4.1)\n",
      "Collecting opencv-python-headless<=4.5.4.60\n",
      "  Downloading opencv_python_headless-4.5.4.60-cp38-cp38-win_amd64.whl (35.0 MB)\n",
      "     ---------------------------------------- 35.0/35.0 MB 1.9 MB/s eta 0:00:00\n",
      "Requirement already satisfied: typing-extensions in c:\\users\\rahmat\\anaconda3\\lib\\site-packages (from torchvision>=0.5->easyocr) (3.7.4.3)\n",
      "Requirement already satisfied: requests in c:\\users\\rahmat\\anaconda3\\lib\\site-packages (from torchvision>=0.5->easyocr) (2.25.1)\n",
      "Requirement already satisfied: six in c:\\users\\rahmat\\anaconda3\\lib\\site-packages (from python-bidi->easyocr) (1.15.0)\n",
      "Requirement already satisfied: matplotlib!=3.0.0,>=2.0.0 in c:\\users\\rahmat\\anaconda3\\lib\\site-packages (from scikit-image->easyocr) (3.3.4)\n",
      "Requirement already satisfied: networkx>=2.0 in c:\\users\\rahmat\\anaconda3\\lib\\site-packages (from scikit-image->easyocr) (2.5)\n",
      "Requirement already satisfied: imageio>=2.3.0 in c:\\users\\rahmat\\anaconda3\\lib\\site-packages (from scikit-image->easyocr) (2.9.0)\n",
      "Requirement already satisfied: tifffile>=2019.7.26 in c:\\users\\rahmat\\anaconda3\\lib\\site-packages (from scikit-image->easyocr) (2021.4.8)\n",
      "Requirement already satisfied: PyWavelets>=1.1.1 in c:\\users\\rahmat\\anaconda3\\lib\\site-packages (from scikit-image->easyocr) (1.1.1)\n",
      "Requirement already satisfied: kiwisolver>=1.0.1 in c:\\users\\rahmat\\anaconda3\\lib\\site-packages (from matplotlib!=3.0.0,>=2.0.0->scikit-image->easyocr) (1.3.1)\n",
      "Requirement already satisfied: python-dateutil>=2.1 in c:\\users\\rahmat\\anaconda3\\lib\\site-packages (from matplotlib!=3.0.0,>=2.0.0->scikit-image->easyocr) (2.8.1)\n",
      "Requirement already satisfied: cycler>=0.10 in c:\\users\\rahmat\\anaconda3\\lib\\site-packages (from matplotlib!=3.0.0,>=2.0.0->scikit-image->easyocr) (0.10.0)\n",
      "Requirement already satisfied: pyparsing!=2.0.4,!=2.1.2,!=2.1.6,>=2.0.3 in c:\\users\\rahmat\\anaconda3\\lib\\site-packages (from matplotlib!=3.0.0,>=2.0.0->scikit-image->easyocr) (2.4.7)\n",
      "Requirement already satisfied: decorator>=4.3.0 in c:\\users\\rahmat\\anaconda3\\lib\\site-packages (from networkx>=2.0->scikit-image->easyocr) (5.0.6)\n",
      "Requirement already satisfied: certifi>=2017.4.17 in c:\\users\\rahmat\\anaconda3\\lib\\site-packages (from requests->torchvision>=0.5->easyocr) (2021.10.8)\n",
      "Requirement already satisfied: urllib3<1.27,>=1.21.1 in c:\\users\\rahmat\\anaconda3\\lib\\site-packages (from requests->torchvision>=0.5->easyocr) (1.26.4)\n",
      "Requirement already satisfied: chardet<5,>=3.0.2 in c:\\users\\rahmat\\anaconda3\\lib\\site-packages (from requests->torchvision>=0.5->easyocr) (4.0.0)\n",
      "Requirement already satisfied: idna<3,>=2.5 in c:\\users\\rahmat\\anaconda3\\lib\\site-packages (from requests->torchvision>=0.5->easyocr) (2.10)\n",
      "Installing collected packages: python-bidi, opencv-python-headless, easyocr\n",
      "Successfully installed easyocr-1.4.2 opencv-python-headless-4.5.4.60 python-bidi-0.4.2\n"
     ]
    }
   ],
   "source": [
    "# !pip install easyocr"
   ]
  },
  {
   "cell_type": "code",
   "execution_count": 1,
   "id": "3eb4839b",
   "metadata": {},
   "outputs": [],
   "source": [
    "import easyocr\n",
    "import re"
   ]
  },
  {
   "cell_type": "code",
   "execution_count": 59,
   "id": "f48c0798",
   "metadata": {},
   "outputs": [],
   "source": [
    "import pandas as pd"
   ]
  },
  {
   "cell_type": "code",
   "execution_count": 60,
   "id": "ecbc352c",
   "metadata": {
    "scrolled": true
   },
   "outputs": [
    {
     "data": {
      "text/html": [
       "<div>\n",
       "<style scoped>\n",
       "    .dataframe tbody tr th:only-of-type {\n",
       "        vertical-align: middle;\n",
       "    }\n",
       "\n",
       "    .dataframe tbody tr th {\n",
       "        vertical-align: top;\n",
       "    }\n",
       "\n",
       "    .dataframe thead th {\n",
       "        text-align: right;\n",
       "    }\n",
       "</style>\n",
       "<table border=\"1\" class=\"dataframe\">\n",
       "  <thead>\n",
       "    <tr style=\"text-align: right;\">\n",
       "      <th></th>\n",
       "      <th>_id</th>\n",
       "      <th>singkat</th>\n",
       "      <th>hasil</th>\n",
       "    </tr>\n",
       "  </thead>\n",
       "  <tbody>\n",
       "    <tr>\n",
       "      <th>0</th>\n",
       "      <td>1</td>\n",
       "      <td>abis</td>\n",
       "      <td>habis</td>\n",
       "    </tr>\n",
       "    <tr>\n",
       "      <th>1</th>\n",
       "      <td>2</td>\n",
       "      <td>accent</td>\n",
       "      <td>tekanan</td>\n",
       "    </tr>\n",
       "    <tr>\n",
       "      <th>2</th>\n",
       "      <td>3</td>\n",
       "      <td>accept</td>\n",
       "      <td>terima</td>\n",
       "    </tr>\n",
       "    <tr>\n",
       "      <th>3</th>\n",
       "      <td>4</td>\n",
       "      <td>accident</td>\n",
       "      <td>kecelakaan</td>\n",
       "    </tr>\n",
       "    <tr>\n",
       "      <th>4</th>\n",
       "      <td>5</td>\n",
       "      <td>achievement</td>\n",
       "      <td>prestasi</td>\n",
       "    </tr>\n",
       "  </tbody>\n",
       "</table>\n",
       "</div>"
      ],
      "text/plain": [
       "   _id      singkat       hasil\n",
       "0    1         abis       habis\n",
       "1    2       accent     tekanan\n",
       "2    3       accept      terima\n",
       "3    4     accident  kecelakaan\n",
       "4    5  achievement    prestasi"
      ]
     },
     "execution_count": 60,
     "metadata": {},
     "output_type": "execute_result"
    }
   ],
   "source": [
    "key_norm = pd.read_csv('images/key_norm.csv')\n",
    "key_norm.head()"
   ]
  },
  {
   "cell_type": "code",
   "execution_count": 2,
   "id": "c0723f89",
   "metadata": {
    "scrolled": false
   },
   "outputs": [
    {
     "name": "stderr",
     "output_type": "stream",
     "text": [
      "CUDA not available - defaulting to CPU. Note: This module is much faster with a GPU.\n"
     ]
    }
   ],
   "source": [
    "reader = easyocr.Reader(['en'] ) "
   ]
  },
  {
   "cell_type": "code",
   "execution_count": 206,
   "id": "56ef4aad",
   "metadata": {},
   "outputs": [
    {
     "data": {
      "text/plain": [
       "str"
      ]
     },
     "execution_count": 206,
     "metadata": {},
     "output_type": "execute_result"
    }
   ],
   "source": [
    "type(disc)"
   ]
  },
  {
   "cell_type": "code",
   "execution_count": 202,
   "id": "1a4b4abd",
   "metadata": {},
   "outputs": [
    {
     "name": "stdout",
     "output_type": "stream",
     "text": [
      "['disc']\n",
      "['disc']\n",
      "['disc']\n",
      "['disc']\n"
     ]
    }
   ],
   "source": [
    "for i in disc:\n",
    "    print(re.findall(\"disc\",i))\n",
    "    "
   ]
  },
  {
   "cell_type": "code",
   "execution_count": 17,
   "id": "4a4e0125",
   "metadata": {},
   "outputs": [],
   "source": [
    "# result = reader.readtext('images/alfa12.png')"
   ]
  },
  {
   "cell_type": "code",
   "execution_count": 18,
   "id": "b907e7fd",
   "metadata": {},
   "outputs": [],
   "source": [
    "# print(result)"
   ]
  },
  {
   "cell_type": "code",
   "execution_count": 156,
   "id": "f2ce2d1c",
   "metadata": {},
   "outputs": [],
   "source": [
    "import cv2\n",
    "import matplotlib.pyplot as plt"
   ]
  },
  {
   "cell_type": "code",
   "execution_count": 260,
   "id": "f7c4565f",
   "metadata": {
    "scrolled": false
   },
   "outputs": [
    {
     "data": {
      "text/plain": [
       "<matplotlib.image.AxesImage at 0x16803a73a30>"
      ]
     },
     "execution_count": 260,
     "metadata": {},
     "output_type": "execute_result"
    },
    {
     "data": {
      "image/png": "[encoded data removed]",
      "text/plain": [
       "<Figure size 360x720 with 1 Axes>"
      ]
     },
     "metadata": {
      "needs_background": "light"
     },
     "output_type": "display_data"
    }
   ],
   "source": [
    "image = cv2.imread(\"images/alfa14.jpeg\")\n",
    "gray = cv2.cvtColor(image, cv2.COLOR_RGB2GRAY)\n",
    "gray = cv2.resize(gray, None, fx = 3, fy = 3, interpolation = cv2.INTER_CUBIC)\n",
    "blur = cv2.GaussianBlur(gray, (5,5), 0)\n",
    "ret, thresh = cv2.threshold(gray, 0, 255, cv2.THRESH_OTSU | cv2.THRESH_BINARY_INV)\n",
    "roi = cv2.bitwise_not(thresh)\n",
    "plt.figure(figsize=(5,10))\n",
    "plt.axis(\"Off\")\n",
    "plt.imshow(roi, cmap='gray')"
   ]
  },
  {
   "cell_type": "code",
   "execution_count": null,
   "id": "1b760194",
   "metadata": {},
   "outputs": [],
   "source": []
  },
  {
   "cell_type": "code",
   "execution_count": null,
   "id": "68d17c8e",
   "metadata": {},
   "outputs": [],
   "source": []
  },
  {
   "cell_type": "code",
   "execution_count": null,
   "id": "733f71ee",
   "metadata": {},
   "outputs": [],
   "source": []
  },
  {
   "cell_type": "markdown",
   "id": "4ac42603",
   "metadata": {},
   "source": [
    "# Dari sini"
   ]
  },
  {
   "cell_type": "code",
   "execution_count": 3,
   "id": "3104c99e",
   "metadata": {},
   "outputs": [],
   "source": [
    "ori = \"test.png\""
   ]
  },
  {
   "cell_type": "code",
   "execution_count": 4,
   "id": "468b6e26",
   "metadata": {
    "scrolled": true
   },
   "outputs": [
    {
     "name": "stdout",
     "output_type": "stream",
     "text": [
      "[([[197, 13], [211, 13], [211, 35], [197, 35]], '2', 0.9999926090377045), ([[230, 4], [282, 4], [282, 34], [230, 34]], '4,700', 0.9087653544474417), ([[314, 0], [368, 0], [368, 24], [314, 24]], '9,4UU', 0.8623294567522652), ([[70, 18], [152, 18], [152, 48], [70, 48]], 'IJ0 250HL', 0.36500603165099077), ([[22, 56], [70, 56], [70, 82], [22, 82]], 'Disc .', 0.98558036531958), ([[98, 44], [156, 44], [156, 74], [98, 74]], '~2,200', 0.5493038134359941), ([[234, 60], [286, 60], [286, 90], [234, 90]], '3,700', 0.8411500825270164), ([[320, 50], [372, 50], [372, 80], [320, 80]], '7,400', 0.991880144961452), ([[25, 69], [160, 69], [160, 113], [25, 113]], 'SoSRO ORI 330hL', 0.05102371074169206), ([[203, 69], [217, 69], [217, 91], [203, 91]], '2', 0.725084939753776), ([[28, 110], [76, 110], [76, 138], [28, 138]], 'Disc.', 0.6319121132412506), ([[104, 100], [164, 100], [164, 130], [104, 130]], '~2,400', 0.5132624993020256), ([[230, 114], [292, 114], [292, 144], [230, 144]], '12,000', 0.9979895015768325), ([[316, 106], [378, 106], [378, 138], [316, 138]], '12,000', 0.7839489107359469), ([[27, 127], [167, 127], [167, 168], [27, 168]], 'HYROT | ThR Fhes', 0.26194630426489424), ([[234, 142], [294, 142], [294, 172], [234, 172]], '44,000', 0.7582013637164039), ([[318, 134], [380, 134], [380, 164], [318, 164]], '44,000', 0.9971969685776643), ([[31, 157], [137, 157], [137, 195], [31, 195]], 'Quaker 800G', 0.5213828652187142), ([[36, 192], [84, 192], [84, 218], [36, 218]], 'Disc.', 0.8166831488712228), ([[104, 182], [172, 182], [172, 212], [104, 212]], '~14,500', 0.6802194869806619), ([[40, 220], [64, 220], [64, 244], [40, 244]], 'KP', 0.9962945243342984), ([[61, 208], [144, 208], [144, 247], [61, 247]], 'BRANDING ', 0.791447510127234), ([[42, 246], [84, 246], [84, 267], [42, 267]], 'Disc', 0.9934899095599817), ([[15.478939620309818, 27.414197354526692], [67.54716981132076, 23.41509433962264], [69.52106037969018, 49.58580264547331], [17.452830188679243, 54.58490566037736]], 'ULTRA', 0.9106239354078165)]\n"
     ]
    }
   ],
   "source": [
    "# this needs to run only once to load the model into memory  \n",
    "result = reader.readtext(ori, detail=1) #/content/test.jpg\n",
    "print(result)"
   ]
  },
  {
   "cell_type": "code",
   "execution_count": 5,
   "id": "a8611567",
   "metadata": {
    "scrolled": true
   },
   "outputs": [
    {
     "data": {
      "text/plain": [
       "['2',\n",
       " '4,700',\n",
       " '9,4uu',\n",
       " 'ij0 250hl',\n",
       " 'disc .',\n",
       " '~2,200',\n",
       " '3,700',\n",
       " '7,400',\n",
       " 'sosro ori 330hl',\n",
       " '2',\n",
       " 'disc.',\n",
       " '~2,400',\n",
       " '12,000',\n",
       " '12,000',\n",
       " 'hyrot | thr fhes',\n",
       " '44,000',\n",
       " '44,000',\n",
       " 'quaker 800g',\n",
       " 'disc.',\n",
       " '~14,500',\n",
       " 'kp',\n",
       " 'branding ',\n",
       " 'disc',\n",
       " 'ultra']"
      ]
     },
     "execution_count": 5,
     "metadata": {},
     "output_type": "execute_result"
    }
   ],
   "source": [
    "# print(result)\n",
    "text = []\n",
    "for string in result:\n",
    "    text.append(string[1])\n",
    "text = [x.lower() for x in text]\n",
    "text"
   ]
  },
  {
   "cell_type": "code",
   "execution_count": 255,
   "id": "16147e15",
   "metadata": {
    "scrolled": true
   },
   "outputs": [
    {
     "name": "stdout",
     "output_type": "stream",
     "text": [
      "['disc .', 'disc.', 'disc.']\n",
      "['~2,200', '~2,400', '-14,500']\n"
     ]
    }
   ],
   "source": [
    "disc = []\n",
    "hdisc = []\n",
    "for i in range(len(text)):\n",
    "#     print(i)\n",
    "    if (\"disc\" in text[i])==True:\n",
    "        disc.append(text[i])\n",
    "    try:\n",
    "        if text[i] in disc:\n",
    "            hdisc.append(text[i+1])\n",
    "    except (IndexError):\n",
    "        del disc[-1]\n",
    "        \n",
    "print(disc)\n",
    "print(hdisc)"
   ]
  },
  {
   "cell_type": "code",
   "execution_count": 226,
   "id": "af4a074a",
   "metadata": {
    "scrolled": true
   },
   "outputs": [
    {
     "data": {
      "text/plain": [
       "['hh like 800',\n",
       " '16,400',\n",
       " '16, 400',\n",
       " 'dala det violet',\n",
       " '31,600',\n",
       " '31,600',\n",
       " 'dala bunga 1.8',\n",
       " '31,',\n",
       " '31,600',\n",
       " 'vsln hw 200',\n",
       " '28,400',\n",
       " '28, 400',\n",
       " \"'600\"]"
      ]
     },
     "execution_count": 226,
     "metadata": {},
     "output_type": "execute_result"
    }
   ],
   "source": [
    "inti = []\n",
    "for i in range(len(text)):\n",
    "    if text[i] not in (disc):\n",
    "        if text[i] not in (hdisc):\n",
    "            inti.append(text[i])\n",
    "# print(text)\n",
    "inti"
   ]
  },
  {
   "cell_type": "code",
   "execution_count": 227,
   "id": "49782695",
   "metadata": {},
   "outputs": [
    {
     "data": {
      "text/plain": [
       "['16,400', '16, 400', '31,600', '31,600', '31,', '31,600', '28,400', '28, 400']"
      ]
     },
     "execution_count": 227,
     "metadata": {},
     "output_type": "execute_result"
    }
   ],
   "source": [
    "harga = []\n",
    "for i in range(len(inti)):\n",
    "#     print(text[i])\n",
    "    if re.findall(r'([0-9]{1,3}(?=\\,))',inti[i]):\n",
    "        harga.append(inti[i])\n",
    "harga"
   ]
  },
  {
   "cell_type": "code",
   "execution_count": 228,
   "id": "56235272",
   "metadata": {
    "scrolled": false
   },
   "outputs": [
    {
     "data": {
      "text/plain": [
       "['16, 400', '31,600', '31,600', '28, 400']"
      ]
     },
     "execution_count": 228,
     "metadata": {},
     "output_type": "execute_result"
    }
   ],
   "source": [
    "harga[1::2]"
   ]
  },
  {
   "cell_type": "code",
   "execution_count": 237,
   "id": "8399e3f9",
   "metadata": {},
   "outputs": [
    {
     "data": {
      "text/plain": [
       "['hh like 800', 'dala det violet', 'dala bunga 1.8', 'vsln hw 200', \"'600\"]"
      ]
     },
     "execution_count": 237,
     "metadata": {},
     "output_type": "execute_result"
    }
   ],
   "source": [
    "produk=[]\n",
    "for i in range(len(inti)):\n",
    "    if (inti[i] not in harga)==True:\n",
    "        produk.append(inti[i])\n",
    "produk"
   ]
  },
  {
   "cell_type": "code",
   "execution_count": 242,
   "id": "6a577e4f",
   "metadata": {
    "scrolled": false
   },
   "outputs": [
    {
     "name": "stdout",
     "output_type": "stream",
     "text": [
      "False\n",
      "False\n",
      "False\n",
      "False\n",
      "False\n"
     ]
    }
   ],
   "source": [
    "for i in range(len(produk)):\n",
    "    print(produk[i].isdigit())"
   ]
  },
  {
   "cell_type": "markdown",
   "id": "b2b5c69e",
   "metadata": {},
   "source": [
    "# sampe sini dulu"
   ]
  },
  {
   "cell_type": "code",
   "execution_count": null,
   "id": "fbcab1e0",
   "metadata": {},
   "outputs": [],
   "source": []
  },
  {
   "cell_type": "code",
   "execution_count": null,
   "id": "2f4afb0e",
   "metadata": {},
   "outputs": [],
   "source": []
  },
  {
   "cell_type": "code",
   "execution_count": 114,
   "id": "ec37701c",
   "metadata": {
    "scrolled": true
   },
   "outputs": [],
   "source": [
    "# join = \" \".join(text)\n",
    "# join"
   ]
  },
  {
   "cell_type": "code",
   "execution_count": 115,
   "id": "7e5d5154",
   "metadata": {
    "scrolled": true
   },
   "outputs": [
    {
     "data": {
      "text/plain": [
       "['3,000', '3,000', '5,400', '5,400', '-1,100']"
      ]
     },
     "execution_count": 115,
     "metadata": {},
     "output_type": "execute_result"
    }
   ],
   "source": [
    "harga = []\n",
    "for i in range(len(text)):\n",
    "#     print(text[i])\n",
    "    if re.findall(r'([0-9]{1,3}(?=\\,))',text[i]):\n",
    "        harga.append(text[i])\n",
    "harga"
   ]
  },
  {
   "cell_type": "code",
   "execution_count": 116,
   "id": "db220cc6",
   "metadata": {
    "scrolled": true
   },
   "outputs": [
    {
     "data": {
      "text/plain": [
       "['javana mlt3soml', 'ichitan hga2oml', 'disc.', 'kp branding m', '200', '200']"
      ]
     },
     "execution_count": 116,
     "metadata": {},
     "output_type": "execute_result"
    }
   ],
   "source": [
    "tokens = [token for token in text if token not in harga]\n",
    "tokens"
   ]
  },
  {
   "cell_type": "code",
   "execution_count": 117,
   "id": "c29ff063",
   "metadata": {},
   "outputs": [],
   "source": [
    "def normalisasi(text):\n",
    "    tex=[]\n",
    "    for i in range(len(text)):\n",
    "        if (key_norm['singkat'] == text[i]).any():\n",
    "            tex.append(key_norm[key_norm['singkat'] == text[i]]['hasil'].values[0])\n",
    "        else:\n",
    "            tex.append(text[i])\n",
    "    return tex\n"
   ]
  },
  {
   "cell_type": "code",
   "execution_count": 118,
   "id": "6abcaad7",
   "metadata": {
    "scrolled": true
   },
   "outputs": [
    {
     "data": {
      "text/plain": [
       "['javana mlt3soml',\n",
       " '3,000',\n",
       " '3,000',\n",
       " 'ichitan hga2oml',\n",
       " '5,400',\n",
       " '5,400',\n",
       " 'disc.',\n",
       " '-1,100',\n",
       " 'kp branding m',\n",
       " '200',\n",
       " '200']"
      ]
     },
     "execution_count": 118,
     "metadata": {},
     "output_type": "execute_result"
    }
   ],
   "source": [
    "text=normalisasi(text)\n",
    "text"
   ]
  },
  {
   "cell_type": "code",
   "execution_count": null,
   "id": "213df26a",
   "metadata": {},
   "outputs": [],
   "source": [
    "\"^The.*Spain$\", txt"
   ]
  },
  {
   "cell_type": "code",
   "execution_count": 189,
   "id": "812cab86",
   "metadata": {},
   "outputs": [
    {
     "name": "stdout",
     "output_type": "stream",
     "text": [
      "[]\n",
      "[]\n",
      "[]\n",
      "[]\n",
      "[]\n",
      "[]\n",
      "[]\n",
      "['dis']\n",
      "[]\n"
     ]
    }
   ],
   "source": [
    "for i in range(len(text)):\n",
    "    print(re.findall(\"dis\",text[i]))"
   ]
  },
  {
   "cell_type": "code",
   "execution_count": 110,
   "id": "393021b7",
   "metadata": {},
   "outputs": [
    {
     "data": {
      "text/plain": [
       "[]"
      ]
     },
     "execution_count": 110,
     "metadata": {},
     "output_type": "execute_result"
    }
   ],
   "source": [
    "diskon = []\n",
    "for i in range(len(text)):\n",
    "    \n",
    "    if text[i] == \"disc.\": # and re.findall(r'([0-9]{1,3}(?=\\,))',text[i])\n",
    "        diskon.append(text[i+1])\n",
    "        continue\n",
    "diskon"
   ]
  },
  {
   "cell_type": "code",
   "execution_count": 111,
   "id": "dc329166",
   "metadata": {},
   "outputs": [
    {
     "data": {
      "text/plain": [
       "['1,500', '1,500', '-1,500']"
      ]
     },
     "execution_count": 111,
     "metadata": {},
     "output_type": "execute_result"
    }
   ],
   "source": [
    "tokens = [token for token in harga if token not in diskon]\n",
    "tokens"
   ]
  },
  {
   "cell_type": "markdown",
   "id": "bd1b9c50",
   "metadata": {},
   "source": [
    "# sampe sini dulu. \n",
    "* masih ada beberapa hal untuk buat code nya lebih general ke beberapa struk\n",
    " - ada beberapa harga yang tanpa ada tanda koma seperti harga yang masih ratusan, maka nya perlu penanganan. (dibawah udah ada sedikit gambaran code nya)\n",
    " - kalau ocr nya gagal baca atau ngaco, itu hal yang susah untuk di ekstrak wkwkwk\n",
    " - kalau setelah kata \"disc.\" langsung ketemu produk, perlu penanganan"
   ]
  },
  {
   "cell_type": "code",
   "execution_count": null,
   "id": "015d5f4f",
   "metadata": {},
   "outputs": [],
   "source": []
  },
  {
   "cell_type": "code",
   "execution_count": null,
   "id": "6f253872",
   "metadata": {},
   "outputs": [],
   "source": []
  },
  {
   "cell_type": "code",
   "execution_count": null,
   "id": "93a8e981",
   "metadata": {},
   "outputs": [],
   "source": []
  },
  {
   "cell_type": "code",
   "execution_count": null,
   "id": "dd7a0d5a",
   "metadata": {},
   "outputs": [],
   "source": []
  },
  {
   "cell_type": "code",
   "execution_count": null,
   "id": "705ff60f",
   "metadata": {},
   "outputs": [],
   "source": []
  },
  {
   "cell_type": "code",
   "execution_count": null,
   "id": "174d50fa",
   "metadata": {},
   "outputs": [],
   "source": []
  },
  {
   "cell_type": "code",
   "execution_count": 123,
   "id": "af5602c8",
   "metadata": {},
   "outputs": [],
   "source": [
    "# harga = ['3,000', '3,000', '5,400', '5,400', '-1,100','~1,100']"
   ]
  },
  {
   "cell_type": "code",
   "execution_count": 214,
   "id": "ad2afa4d",
   "metadata": {
    "scrolled": false
   },
   "outputs": [],
   "source": [
    "# !wget https://raw.githubusercontent.com/ksnugroho/klasifikasi-spam-sms/master/data/key_norm.csv"
   ]
  },
  {
   "cell_type": "code",
   "execution_count": 213,
   "id": "889f611b",
   "metadata": {},
   "outputs": [],
   "source": [
    "# def text_normalize(text):\n",
    "#   text = ([key_norm[key_norm['singkat'] == text(word)]['hasil'].values[0] if (key_norm['singkat'] == text(word)).any() else text(word) for word in range(len(text)])\n",
    "#   text = str.lower(text)\n",
    "#   return text"
   ]
  },
  {
   "cell_type": "code",
   "execution_count": null,
   "id": "53ea9ae7",
   "metadata": {},
   "outputs": [],
   "source": []
  },
  {
   "cell_type": "code",
   "execution_count": 209,
   "id": "256bd733",
   "metadata": {},
   "outputs": [
    {
     "data": {
      "text/plain": [
       "['mh lihe b00',\n",
       " '16,400',\n",
       " '16, 400',\n",
       " 'disc.',\n",
       " '-16, j00',\n",
       " 'idala det  violet',\n",
       " '31,600',\n",
       " '31,600',\n",
       " 'disc.',\n",
       " '55,,700',\n",
       " 'idaia bunga |.8',\n",
       " '31,600 ',\n",
       " '31,600',\n",
       " 'disc.',\n",
       " '-9,700',\n",
       " '28,400',\n",
       " 'vsln hw 200',\n",
       " '28,400 ',\n",
       " 'disc.',\n",
       " '-14,400']"
      ]
     },
     "execution_count": 209,
     "metadata": {},
     "output_type": "execute_result"
    }
   ],
   "source": [
    "# text = normalisasi(text)\n",
    "# text"
   ]
  },
  {
   "cell_type": "code",
   "execution_count": 28,
   "id": "c6d60b94",
   "metadata": {},
   "outputs": [],
   "source": [
    "import\n",
    "re"
   ]
  },
  {
   "cell_type": "code",
   "execution_count": 41,
   "id": "09c4ba13",
   "metadata": {},
   "outputs": [],
   "source": [
    "# re.findall(r'([0-9]{1,3}(?=\\,))',text)"
   ]
  },
  {
   "cell_type": "code",
   "execution_count": 33,
   "id": "80ac93f1",
   "metadata": {},
   "outputs": [
    {
     "data": {
      "text/plain": [
       "['00',\n",
       " '16',\n",
       " '400',\n",
       " '16',\n",
       " '400',\n",
       " '16',\n",
       " '00',\n",
       " '31',\n",
       " '600',\n",
       " '31',\n",
       " '600',\n",
       " '55',\n",
       " '700',\n",
       " '8',\n",
       " '31',\n",
       " '31',\n",
       " '600',\n",
       " '9',\n",
       " '700',\n",
       " '28',\n",
       " '400',\n",
       " '200',\n",
       " '28',\n",
       " '14']"
      ]
     },
     "execution_count": 33,
     "metadata": {},
     "output_type": "execute_result"
    }
   ],
   "source": [
    "join = \",\".join(text)\n",
    "re.findall(r'([0-9]{1,3}(?=\\,))',join)"
   ]
  },
  {
   "cell_type": "code",
   "execution_count": 14,
   "id": "8eeedb81",
   "metadata": {},
   "outputs": [],
   "source": [
    "from nltk.tokenize import word_tokenize "
   ]
  },
  {
   "cell_type": "code",
   "execution_count": 19,
   "id": "4026d7d5",
   "metadata": {},
   "outputs": [
    {
     "name": "stdout",
     "output_type": "stream",
     "text": [
      "['kp', 'brd', 'm', '0.015']\n",
      "['200']\n",
      "['200']\n",
      "['prohina', 'db', '4s']\n",
      "['2']\n",
      "['19,400']\n",
      "['38,800']\n",
      "['disc', '.']\n",
      "['~7,300']\n"
     ]
    },
    {
     "data": {
      "text/plain": [
       "[]"
      ]
     },
     "execution_count": 19,
     "metadata": {},
     "output_type": "execute_result"
    }
   ],
   "source": [
    "words = []  \n",
    "digit = []\n",
    "for i in range(len(text)):\n",
    "    j = word_tokenize(text[i])\n",
    "    print(j)\n",
    "#     for k in range(len(j)):\n",
    "# #         print(j[k])\n",
    "#         if j[k].isdigit():\n",
    "#             digit.append(j[k])\n",
    "#         if (j[k].isalnum() and j[k]not in(digit)):\n",
    "            \n",
    "#             words.append(j[k])\n",
    "words"
   ]
  },
  {
   "cell_type": "code",
   "execution_count": 53,
   "id": "5970c3aa",
   "metadata": {},
   "outputs": [
    {
     "name": "stdout",
     "output_type": "stream",
     "text": [
      "kp branding m\n",
      "disc _\n",
      "sedaap grg 85g\n",
      "2\n",
      "4,200\n",
      "8,400\n",
      "disc.\n",
      "~2,900\n"
     ]
    },
    {
     "data": {
      "text/plain": [
       "['2']"
      ]
     },
     "execution_count": 53,
     "metadata": {},
     "output_type": "execute_result"
    }
   ],
   "source": [
    "words = [] \n",
    "digit = []\n",
    "\n",
    "for i in range(len(text)):\n",
    "    print(text[i])\n",
    "    if text[i].isdigit():\n",
    "        digit.append(text[i])\n",
    "    if text[i].isalnum() and text[i] not in(digit):\n",
    "        words.append(text[i])\n",
    "        \n",
    "#     print(j)\n",
    "#     for k in range(len(j)):\n",
    "#         print(j[k])  #nanti sebelum masuk step ini perlu normalisasi suatu kata yang diikuti tanda titik perlu di hilangin tanda titik nya, soalnya ngaruh ke model nya gak ke ekstrak dengan baik\n",
    "#         if j[k].isalnum():\n",
    "#             words.append(j[k])\n",
    "words\n",
    "digit"
   ]
  },
  {
   "cell_type": "code",
   "execution_count": null,
   "id": "b5a460c3",
   "metadata": {},
   "outputs": [],
   "source": []
  }
 ],
 "metadata": {
  "kernelspec": {
   "display_name": "Python 3",
   "language": "python",
   "name": "python3"
  },
  "language_info": {
   "codemirror_mode": {
    "name": "ipython",
    "version": 3
   },
   "file_extension": ".py",
   "mimetype": "text/x-python",
   "name": "python",
   "nbconvert_exporter": "python",
   "pygments_lexer": "ipython3",
   "version": "3.8.8"
  }
 },
 "nbformat": 4,
 "nbformat_minor": 5
}
